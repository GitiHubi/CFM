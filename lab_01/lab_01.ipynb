{
 "cells": [
  {
   "cell_type": "markdown",
   "metadata": {},
   "source": [
    "<img align=\"right\" style=\"max-width: 200px; height: auto\" src=\"fs_logo.jpg\">\n",
    "\n",
    "## Lab 01- Einführung Jupyter Notebook und Python\n",
    "\n",
    "Seminar Forensische Datenanalysen, Frankfurt School, 2021"
   ]
  },
  {
   "cell_type": "markdown",
   "metadata": {},
   "source": [
    "Die Analysen des Seminars **Forensische Datenanalysen** basieren auf Jupyter Notebook (https://jupyter.org). Anhand solcher Notebooks ist es möglich eine Vielzahl von Datenanalysen und statistischen Validierungen durchzuführen. "
   ]
  },
  {
   "cell_type": "markdown",
   "metadata": {},
   "source": [
    "<img align=\"center\" style=\"max-width: 700px\" src=\"lab_banner.png\">"
   ]
  },
  {
   "cell_type": "markdown",
   "metadata": {},
   "source": [
    "In diesem ersten vorbereitenden Notebook möchten wir einige der grundlegenden Python-Konzepte und die allgemeine Verwendung solcher Notebooks behandeln. Um dieses Ziel zu erreichen, werden wir gemeinsam einige einführende Beispiele ausprobieren. Im Zweifelsfall oder bei Fragen wenden Sie sich, wie immer gerne an uns via **marco.schreyer (at) unisg.ch**. Wir wünschen Ihnen Viel Spaß beim Programmieren bzw. Analysieren!"
   ]
  },
  {
   "cell_type": "markdown",
   "metadata": {},
   "source": [
    "## Lernziele des Labs:"
   ]
  },
  {
   "cell_type": "markdown",
   "metadata": {},
   "source": [
    "Nach der heutigen Übung sollten Sie in der Lage sein:\n",
    "    \n",
    "> 1. Den allgemeinen Arbeitsablauf, die Struktur und die Funktionalität von **Jupyter**-Notebook zu nachzuvollziehen.\n",
    "> 2. Pythonbasierte Data-Science-Bibliotheken wie **NumPy** und **Pandas** zu importieren und anzuwenden. \n",
    "> 3. Die Programmiersprache **Python** zur Manipulation und Analyse von strukturierten Daten einzusetzen.\n",
    "> 4. Beliebige Börsen- und Finanzdaten mit Hilfe der `Pandas` `DataReader` API zu importieren.\n",
    "> 5. Die **Matplotlib**-Bibliothek zur Visualisierung von Daten und analytischen Ergebnissen zu verwenden."
   ]
  },
  {
   "cell_type": "markdown",
   "metadata": {},
   "source": [
    "### 1. Jupyter Notebook Einführung"
   ]
  },
  {
   "cell_type": "markdown",
   "metadata": {},
   "source": [
    "#### 1.1 Code Zellen und Text Zellen"
   ]
  },
  {
   "cell_type": "markdown",
   "metadata": {},
   "source": [
    "Jupyter-Notebooks bestehen aus zwei Haupttypen von Zellen: **(1) Codezellen** und **(2) Textzellen** (letztere werden auch als \"Markdown\"-Zellen bezeichnet). Codezellen werden verwendet, um Code oder Befehle in der Programmiersprache Python auszuführen. Textzellen werden verwendet, um die ausgeführten Befehle oder durchgeführten Analysen zu dokumentieren oder zu beschreiben. Jede Zelle eines Notizbuchs kann entweder eine Codezelle oder eine Textzelle darstellen. Um zwischen den beiden Zelltypen zu wählen, wählen Sie aus dem obigen Dropdown-Menü **Cell** und **Cell Type**.\n",
    "\n",
    "Schauen wir uns nun ein kurzes Beispiel für jeden Zellentyp an:"
   ]
  },
  {
   "cell_type": "markdown",
   "metadata": {},
   "source": [
    "Hello World!"
   ]
  },
  {
   "cell_type": "code",
   "execution_count": 1,
   "metadata": {},
   "outputs": [
    {
     "data": {
      "text/plain": [
       "3"
      ]
     },
     "execution_count": 1,
     "metadata": {},
     "output_type": "execute_result"
    }
   ],
   "source": [
    "1 + 2"
   ]
  },
  {
   "cell_type": "markdown",
   "metadata": {},
   "source": [
    "#### 1.2 Ausführen einer Codezelle"
   ]
  },
  {
   "cell_type": "markdown",
   "metadata": {},
   "source": [
    "Eine **Codezelle** wird ausgeführt, wenn Sie im obigen Menü **'Run'** oder die Tastenkombination **Umschalt-Eingabe** betätigen. Bei der Auswertung einer Zelle werden die einzelnen Codezeilen der Reihe nach ausgewertet und das Ergebnis der letzten Codezeile unterhalb der Zelle ausgegeben:"
   ]
  },
  {
   "cell_type": "code",
   "execution_count": 2,
   "metadata": {},
   "outputs": [
    {
     "data": {
      "text/plain": [
       "42"
      ]
     },
     "execution_count": 2,
     "metadata": {},
     "output_type": "execute_result"
    }
   ],
   "source": [
    "40 + 2"
   ]
  },
  {
   "cell_type": "markdown",
   "metadata": {},
   "source": [
    "Manchmal wird jedoch kein Ergebnis ausgeben, wie im Fall der folgenden Zuordnung:"
   ]
  },
  {
   "cell_type": "code",
   "execution_count": 3,
   "metadata": {},
   "outputs": [],
   "source": [
    "X = 5"
   ]
  },
  {
   "cell_type": "code",
   "execution_count": 4,
   "metadata": {},
   "outputs": [
    {
     "data": {
      "text/plain": [
       "5"
      ]
     },
     "execution_count": 4,
     "metadata": {},
     "output_type": "execute_result"
    }
   ],
   "source": [
    "X"
   ]
  },
  {
   "cell_type": "markdown",
   "metadata": {},
   "source": [
    "Beachten Sie, dass nur das Ergebnis der letzten Zeile ausgeben wird:"
   ]
  },
  {
   "cell_type": "code",
   "execution_count": 5,
   "metadata": {},
   "outputs": [
    {
     "data": {
      "text/plain": [
       "12"
      ]
     },
     "execution_count": 5,
     "metadata": {},
     "output_type": "execute_result"
    }
   ],
   "source": [
    "2 + 2\n",
    "3 + 9"
   ]
  },
  {
   "cell_type": "markdown",
   "metadata": {},
   "source": [
    "Sie können jedoch jede beliebige Zeile durch den Python Befehl `print` ausdrucken:"
   ]
  },
  {
   "cell_type": "code",
   "execution_count": 6,
   "metadata": {},
   "outputs": [
    {
     "name": "stdout",
     "output_type": "stream",
     "text": [
      "4\n"
     ]
    },
    {
     "data": {
      "text/plain": [
       "6"
      ]
     },
     "execution_count": 6,
     "metadata": {},
     "output_type": "execute_result"
    }
   ],
   "source": [
    "print(2 + 2)\n",
    "3 + 3"
   ]
  },
  {
   "cell_type": "markdown",
   "metadata": {},
   "source": [
    "#### 1.3 Kommentieren einer Codezelle\n",
    "\n",
    "Das Zeichen **\"#\"** hat in Python eine besondere Bedeutung. Wann immer es auftaucht, werden alle folgenden Zeichen in derselben Zeile als Kommentare betrachtet und im Rahmen der Ausführung ignoriert. Sie können Kommentare beispielsweise dazu verwenden, um zu erklären, was bestimmte Teile Ihres programmierten Codes tun:"
   ]
  },
  {
   "cell_type": "code",
   "execution_count": 7,
   "metadata": {},
   "outputs": [],
   "source": [
    "# das ist ein Kommentar"
   ]
  },
  {
   "cell_type": "code",
   "execution_count": 8,
   "metadata": {},
   "outputs": [
    {
     "name": "stdout",
     "output_type": "stream",
     "text": [
      "1\n"
     ]
    }
   ],
   "source": [
    "print(1) # Kommentare können in der gleichen Zeile wie der Code stehen"
   ]
  },
  {
   "cell_type": "markdown",
   "metadata": {},
   "source": [
    "#### 1.4 Zustand einer Codezelle"
   ]
  },
  {
   "cell_type": "markdown",
   "metadata": {},
   "source": [
    "Während des Ausführens einer Zelle, wird das Symbol **[*]** innerhalb der beiden eckigen Klammern links von der jeweiligen Zelle angezeigt. Sofern eine Zelle innerhalb des Notebooks noch nicht ausgeführt wurde, wird dies durch das Symbol **[ ]** symbolisiert. Nach Ausführung einer Zelle wird das Symbol um eine Zahl ergänzt, welche die Ausführungsreihenfolge **[5]** der Codezellen eines Notebooks symbolisiert. Um dies zu verdeutlichen, führen Sie die nachfolgende Codezelle aus und beobachten Sie die Veränderung innerhalb der eckigen Klammern:"
   ]
  },
  {
   "cell_type": "code",
   "execution_count": 9,
   "metadata": {},
   "outputs": [
    {
     "data": {
      "text/plain": [
       "49999995000000"
      ]
     },
     "execution_count": 9,
     "metadata": {},
     "output_type": "execute_result"
    }
   ],
   "source": [
    "# zeitlich andauernde Berechnung\n",
    "c = 0\n",
    "for i in range(10000000):\n",
    "    c = c + i\n",
    "c"
   ]
  },
  {
   "cell_type": "markdown",
   "metadata": {},
   "source": [
    "### 2. Importieren von Python-Bibliotheken"
   ]
  },
  {
   "cell_type": "markdown",
   "metadata": {},
   "source": [
    "In den meisten Fällen werden wir Funktionen aus vorgefertigten Bibliotheken verwenden, wie z.B.:"
   ]
  },
  {
   "cell_type": "code",
   "execution_count": 10,
   "metadata": {},
   "outputs": [],
   "source": [
    "# importieren der Python sys bibliothek\n",
    "import sys"
   ]
  },
  {
   "cell_type": "markdown",
   "metadata": {},
   "source": [
    "Sie können sich anhand der `Sys` Bibliothek z.B. die durch das Notebook verwendete Version der Python-Programmiersprache ausgeben, indem Sie den nachfolgenden Befehl ausführen:"
   ]
  },
  {
   "cell_type": "code",
   "execution_count": 11,
   "metadata": {},
   "outputs": [
    {
     "data": {
      "text/plain": [
       "'3.8.5 (default, Jul 21 2020, 10:48:26) \\n[Clang 11.0.3 (clang-1103.0.32.62)]'"
      ]
     },
     "execution_count": 11,
     "metadata": {},
     "output_type": "execute_result"
    }
   ],
   "source": [
    "# ausgabe der verwendeten Python version\n",
    "sys.version"
   ]
  },
  {
   "cell_type": "markdown",
   "metadata": {},
   "source": [
    "Aus Sicherheitsgründen kann nicht jede Bibliothek in die Notebookumgebung importiert werden. Sie können jedoch die meisten der gängigen Bibliotheken importieren. Nachfolgend importieren wir die Bibliotheken `NumPy` (https://www.numpy.org) und `Pandas` (https://pandas.pydata.org), zwei der am häufigsten verwendeten Bibliotheken in der Forensischen Datenanalyse. Wir empfehlen, diese Importanweisung einfach für jedes neue Notebook, das Sie erstellen, zu kopieren:"
   ]
  },
  {
   "cell_type": "code",
   "execution_count": 12,
   "metadata": {},
   "outputs": [],
   "source": [
    "# importieren der NumpPy and Pandas data science bibliotheken\n",
    "import numpy\n",
    "import pandas"
   ]
  },
  {
   "cell_type": "markdown",
   "metadata": {},
   "source": [
    "Lassen Sie uns nun die Bibliothek `NumPy` verwenden, um den Mittelwert einer Liste von Zahlen zu berechnen:"
   ]
  },
  {
   "cell_type": "code",
   "execution_count": 13,
   "metadata": {},
   "outputs": [
    {
     "data": {
      "text/plain": [
       "2.5"
      ]
     },
     "execution_count": 13,
     "metadata": {},
     "output_type": "execute_result"
    }
   ],
   "source": [
    "numpy.mean([1, 2, 3, 4])"
   ]
  },
  {
   "cell_type": "markdown",
   "metadata": {},
   "source": [
    "Beachten Sie, dass Sie Bibliotheken nach dem Importieren einen beliebigen Namen zuweisen können. Dies ist anhand der `as`-Anweisung möglich. Nachfolgend benutzen wir `np` und `pd` als **Alias** für die beiden importierten Bibliotheken `NumPy` und `Pandas`. Dies ist ein sehr gebräuchliches **Aliasing** und wird in den meisten Codebeispielen im Web zu finden sein. Die Idee dahinter ist, dass weniger Zeichen eingeben werden müssen, wenn die Bibliotheken häufig innerhalb eines Notebooks verwendet werden:"
   ]
  },
  {
   "cell_type": "code",
   "execution_count": 14,
   "metadata": {},
   "outputs": [],
   "source": [
    "# aliasing der NumpPy and Pandas data science bibliotheken\n",
    "import numpy as np\n",
    "import pandas as pd"
   ]
  },
  {
   "cell_type": "markdown",
   "metadata": {},
   "source": [
    "Lassen Sie uns nun erneut die Bibliothek `NumPy` verwenden, um den Mittelwert einer Liste von Zahlen zu berechnen:"
   ]
  },
  {
   "cell_type": "code",
   "execution_count": 15,
   "metadata": {},
   "outputs": [
    {
     "data": {
      "text/plain": [
       "2.5"
      ]
     },
     "execution_count": 15,
     "metadata": {},
     "output_type": "execute_result"
    }
   ],
   "source": [
    "np.mean([1, 2, 3, 4])"
   ]
  },
  {
   "cell_type": "markdown",
   "metadata": {},
   "source": [
    "### 3. Code Vervollständigung und Dokumentation"
   ]
  },
  {
   "cell_type": "markdown",
   "metadata": {},
   "source": [
    "#### 3.1 Code Vervollständigung "
   ]
  },
  {
   "cell_type": "markdown",
   "metadata": {},
   "source": [
    "Wenn Sie die **Tabulatortaste** `Tab` drücken, schlägt Ihnen Jupyter Notebook eine Liste der wahrscheinlichsten Eingaben vor. Das ist eine wertvolle Funktionalität, die Ihnen Zeit sparen kann. Machen sie von dieser Funktionalität regen Gebrauch. Darüber hinaus stellt die Tabulatortaste eine gute Möglichkeit dar, zu sehen, welche Anweisungen bzw. Funktionalitäten eine Bibliothek umfasst."
   ]
  },
  {
   "cell_type": "markdown",
   "metadata": {},
   "source": [
    "Versuchen Sie, den Cursor nach dem `.` zu platzieren und die `Tab`-Taste auf Ihrer Tastatur zu betätigen:"
   ]
  },
  {
   "cell_type": "code",
   "execution_count": 16,
   "metadata": {},
   "outputs": [],
   "source": [
    "# np.random."
   ]
  },
  {
   "cell_type": "markdown",
   "metadata": {},
   "source": [
    "#### 3.2 Dokumentation bzw. Hilfefunktion"
   ]
  },
  {
   "cell_type": "markdown",
   "metadata": {},
   "source": [
    "Wenn Sie ein **Fragezeichen** `?` hinter eine Anweisung setzen und diese Codezeile ausführen, erhalten Sie die Dokumentation, welche die entsprechende Programmbibliothek für diese Funktion bereithält:"
   ]
  },
  {
   "cell_type": "code",
   "execution_count": 17,
   "metadata": {},
   "outputs": [],
   "source": [
    "np.random.normal?"
   ]
  },
  {
   "cell_type": "markdown",
   "metadata": {},
   "source": [
    "### 4. Visualisierung von Strukturierten Daten"
   ]
  },
  {
   "cell_type": "markdown",
   "metadata": {},
   "source": [
    "#### 4.1 Zufällige Datenstichprobe"
   ]
  },
  {
   "cell_type": "markdown",
   "metadata": {},
   "source": [
    "Lassen Sie uns nun eine Stichprobe von 100 Zufallszahlen einer Standardnormalverteilung durch `NumPy` erzeugen:"
   ]
  },
  {
   "cell_type": "code",
   "execution_count": 18,
   "metadata": {},
   "outputs": [],
   "source": [
    "# Stichprobe 100 Punkten mit einem Mittelwert von 0 und einem Standardwert von 1\n",
    "x = np.random.normal(0, 1, 100)"
   ]
  },
  {
   "cell_type": "code",
   "execution_count": 19,
   "metadata": {},
   "outputs": [
    {
     "data": {
      "text/plain": [
       "array([ 0.384283  ,  1.33111917, -0.31778753, -0.41527216,  0.51945156,\n",
       "       -0.52995722,  1.23197777, -0.39838653, -1.13663003, -1.51973075,\n",
       "       -0.85632385, -0.0693366 , -0.09379921,  1.22466666, -0.92078033,\n",
       "       -1.16177076, -1.69203119, -0.59839251,  1.26276879,  0.21559385,\n",
       "       -0.35193432, -1.30156788,  0.63383206,  0.05387743,  0.46410375,\n",
       "        0.37530976,  0.93651048,  0.6502506 ,  0.53995528, -0.82121889,\n",
       "       -0.59544267,  1.2427862 ,  1.8308517 , -1.03644359,  0.37643096,\n",
       "       -0.34687583, -0.73460194,  3.21412128, -0.75263875, -1.13275358,\n",
       "        0.46243506, -0.02114864,  1.08258262, -0.04962423, -1.78217034,\n",
       "        0.6039173 , -0.60593176, -1.75865794,  0.95232511, -0.62280133,\n",
       "        0.11188088, -0.91953783, -1.24877446,  0.08417756, -0.70534847,\n",
       "       -0.63948246,  3.00019506,  0.47398542, -2.5587078 , -0.62524844,\n",
       "        2.39028991,  0.78269161,  0.49433668, -1.25504418,  0.44944338,\n",
       "        0.44593758,  0.48095553,  0.58460772, -0.10426614,  1.78456573,\n",
       "       -1.44675823, -1.80974335,  0.70113843, -0.19326478, -0.73437158,\n",
       "        0.69319782, -0.74794001, -1.80046878, -1.1939606 ,  1.53087687,\n",
       "        0.22002872,  0.62611741,  1.53218764, -0.37515836, -1.9282455 ,\n",
       "       -1.02353761,  0.04615234,  1.18930302,  0.17574467,  0.50980268,\n",
       "       -0.64471676, -0.64444252,  1.30978781, -0.86979809,  0.63750079,\n",
       "       -0.54508038, -0.21230547, -0.19458217, -1.47333734,  2.46123516])"
      ]
     },
     "execution_count": 19,
     "metadata": {},
     "output_type": "execute_result"
    }
   ],
   "source": [
    "x"
   ]
  },
  {
   "cell_type": "markdown",
   "metadata": {},
   "source": [
    "#### 4.2 Datenvisualisierung in Jupyter Notebook"
   ]
  },
  {
   "cell_type": "markdown",
   "metadata": {},
   "source": [
    "Die Python-Bibliothek `Matplotlib` (https://matplotlib.org) ist eine flexible Bibliothek zu Visualisierung von Daten. Die Bibliothek enthält ein umfangreiches Set von Funktionalitäten die Sie im Rahmen der Erstellung von aussagekräftigen Visualisierungen unterstützen können. Hierzu ist es lediglich notwendig die Bibliothek zu importieren. Anschliessend kann eine gegebene Menge von Datenpunkten, z.B. die zuvor erzeugten Zufallszahlen, mithilfe der Funktion `plot()` visualisiert werden."
   ]
  },
  {
   "cell_type": "markdown",
   "metadata": {},
   "source": [
    "Importieren Sie zunächst die `Matplotlib` Bibliothek durch Ausführung der nachfolgenden Anweisung:"
   ]
  },
  {
   "cell_type": "code",
   "execution_count": 20,
   "metadata": {},
   "outputs": [],
   "source": [
    "# importieren der Matplotlib Bibliothek\n",
    "import matplotlib.pyplot as plt"
   ]
  },
  {
   "cell_type": "markdown",
   "metadata": {},
   "source": [
    "Beachten Sie, dass das `pyplot`-Modul der `Matplotlib` Bibliothek unter dem Alias `plt` importiert wurde. Nun können die durch Matplotlib bereitgestellten Funktionen zur Datenvisualiserung genutzt werden. Lassen Sie uns nun die zuvor erzeugten Zufallszahlen visualisieren:"
   ]
  },
  {
   "cell_type": "code",
   "execution_count": 21,
   "metadata": {},
   "outputs": [
    {
     "data": {
      "text/plain": [
       "[<matplotlib.lines.Line2D at 0x12055d6d0>]"
      ]
     },
     "execution_count": 21,
     "metadata": {},
     "output_type": "execute_result"
    },
    {
     "data": {
      "image/png": "[encoded data removed]",
      "text/plain": [
       "<Figure size 432x288 with 1 Axes>"
      ]
     },
     "metadata": {
      "needs_background": "light"
     },
     "output_type": "display_data"
    }
   ],
   "source": [
    "plt.plot(x)"
   ]
  },
  {
   "cell_type": "markdown",
   "metadata": {},
   "source": [
    "Der Stil des gezeichneten Diagramms lässt sich vergleichsweise einfach verändern, beispielsweise anhand der nachfolgenden Parametrisierung:"
   ]
  },
  {
   "cell_type": "code",
   "execution_count": 22,
   "metadata": {
    "scrolled": true
   },
   "outputs": [
    {
     "data": {
      "text/plain": [
       "[<matplotlib.lines.Line2D at 0x12065b8b0>]"
      ]
     },
     "execution_count": 22,
     "metadata": {},
     "output_type": "execute_result"
    },
    {
     "data": {
      "image/png": "[encoded data removed]",
      "text/plain": [
       "<Figure size 432x288 with 1 Axes>"
      ]
     },
     "metadata": {
      "needs_background": "light"
     },
     "output_type": "display_data"
    }
   ],
   "source": [
    "plt.plot(x, linewidth=3, linestyle=\"--\", color='cornflowerblue')"
   ]
  },
  {
   "cell_type": "markdown",
   "metadata": {},
   "source": [
    "#### 4.3 Entfernen der Codezellen-Ausgabe"
   ]
  },
  {
   "cell_type": "markdown",
   "metadata": {},
   "source": [
    "Vielleicht haben Sie eine ähnliche störende Zeile der Form `[<matplotlib.lines.Line2D at 0x10a4cce90>]` über den erstellten Diagrammen bemerkt? Wenn Sie diese Ausgabe loswerden wollen, beenden Sie die letzte Anweisung innerhalb der Codezelle einfach mit einem Semikolon `;`:"
   ]
  },
  {
   "cell_type": "code",
   "execution_count": 23,
   "metadata": {},
   "outputs": [
    {
     "data": {
      "image/png": "[encoded data removed]",
      "text/plain": [
       "<Figure size 432x288 with 1 Axes>"
      ]
     },
     "metadata": {
      "needs_background": "light"
     },
     "output_type": "display_data"
    }
   ],
   "source": [
    "plt.plot(x);"
   ]
  },
  {
   "cell_type": "markdown",
   "metadata": {},
   "source": [
    "#### 4.4 Hinzfügen von Achsenbeschriftungen"
   ]
  },
  {
   "cell_type": "markdown",
   "metadata": {},
   "source": [
    "Lassen Sie uns nachfolgend ein paar `Matplotlib`-Anweisungen betrachten, welche die erstellten Diagramme aussagekräftiger Gestalten. Darüber hinaus werden wir zwei zufällige erzeugte Serien von Datenpunkten gleichzeitig in einem Diagramm visualisieren:"
   ]
  },
  {
   "cell_type": "code",
   "execution_count": 24,
   "metadata": {},
   "outputs": [],
   "source": [
    "# Erste Stichprobe 100 Punkten mit einem Mittelwert von 0 und einem Standardwert von 1\n",
    "x1 = np.random.normal(0, 1, 100)\n",
    "\n",
    "# Zweite Stichprobe 100 Punkten mit einem Mittelwert von 0 und einem Standardwert von 1\n",
    "x2 = np.random.normal(0, 1, 100)"
   ]
  },
  {
   "cell_type": "markdown",
   "metadata": {},
   "source": [
    "Anschliessend erstellen wir eine entsprechende Visualisierung innerhalb des Notebooks:"
   ]
  },
  {
   "cell_type": "code",
   "execution_count": 25,
   "metadata": {},
   "outputs": [
    {
     "data": {
      "image/png": "[encoded data removed]",
      "text/plain": [
       "<Figure size 432x288 with 1 Axes>"
      ]
     },
     "metadata": {
      "needs_background": "light"
     },
     "output_type": "display_data"
    }
   ],
   "source": [
    "# visualisierung beider Stichproben\n",
    "plt.plot(x1);\n",
    "plt.plot(x2);\n",
    "\n",
    "# hinzfügen der Achsenbeschriftungen\n",
    "plt.xlabel('Time')\n",
    "plt.ylabel('Returns')\n",
    "\n",
    "# hinzfügen der Legende\n",
    "plt.legend(['X1', 'X2'])\n",
    "\n",
    "# hinzufügen des Titels\n",
    "plt.title('Sample Returns X1 and X2');"
   ]
  },
  {
   "cell_type": "markdown",
   "metadata": {},
   "source": [
    "### 5. Berechnung einfacher Statistiken"
   ]
  },
  {
   "cell_type": "markdown",
   "metadata": {},
   "source": [
    "In einem nächsten Schritt verwenden wir die `NumPy` Bibliothek, um einige einfache Statistiken wie den **Mittelwert** durch die Anweisung `mean` einer erzeugten Stichproben von Zufallszahlen zu ermitteln:"
   ]
  },
  {
   "cell_type": "code",
   "execution_count": 26,
   "metadata": {},
   "outputs": [
    {
     "data": {
      "text/plain": [
       "0.10913524072119987"
      ]
     },
     "execution_count": 26,
     "metadata": {},
     "output_type": "execute_result"
    }
   ],
   "source": [
    "np.mean(x1)"
   ]
  },
  {
   "cell_type": "markdown",
   "metadata": {},
   "source": [
    "Analog hierzu lässt sich auch die Standardabweichung anhand der Anweisung `std` ermitteln:"
   ]
  },
  {
   "cell_type": "code",
   "execution_count": 27,
   "metadata": {},
   "outputs": [
    {
     "data": {
      "text/plain": [
       "1.020090819187829"
      ]
     },
     "execution_count": 27,
     "metadata": {},
     "output_type": "execute_result"
    }
   ],
   "source": [
    "np.std(x1)"
   ]
  },
  {
   "cell_type": "markdown",
   "metadata": {},
   "source": [
    "### 6. Download und Import von Marktpreisdaten"
   ]
  },
  {
   "cell_type": "markdown",
   "metadata": {},
   "source": [
    "Einer der ersten Schritte eines jeden Data-Science-Projekts ist in der Regel der Import der zu analysierenden Daten. Beispieldaten aus Zufallsstichproben eignen sich hervorragend zum Testen von Ideen, aber lassen Sie uns nun einige echte Finanzmarktdaten importieren. \n",
    "\n",
    "Innerhalb des aktuellen Ordners des GitHub Repository's **Forensische Datenanalysen** finden Sie eine **Comma Separated Value (CSV)**-Datei mit dem Namen \"sample_google_data_daily.csv\". Die Datei enthält die täglichen Börsendaten der **Alphabet (Google) Inc.** Aktie innerhalb des Zeitraums **31.12.2015** bis **31.12.2017**. Anhand der Anweisung `read_csv` der `Pandas` Bibliothek ist es möglich die Daten in das Notebook zu importieren. Hierzu ist es notwendig zunächst den Pfad der Daten zu definieren. Im Anschluss können die Daten geladen werden:"
   ]
  },
  {
   "cell_type": "code",
   "execution_count": 28,
   "metadata": {},
   "outputs": [],
   "source": [
    "# set the url of the data\n",
    "data_url = 'https://raw.githubusercontent.com/GitiHubi/courseACA/master/labP1/sample_alphabet_data_daily.csv'\n",
    "\n",
    "# read the alphabet data\n",
    "alphabet_data = pd.read_csv(data_url, sep=';')"
   ]
  },
  {
   "cell_type": "markdown",
   "metadata": {},
   "source": [
    "Die geladenen Daten stehen nun als ein sogenanntes `Pandas` **DataFrame** innerhalb des Notebooks für Analysen zur Verfügung. Lassen Sie uns nun die **ersten 5 Zeilen** der importierten Daten mit der Anweisung `head` im Detail betrachten: "
   ]
  },
  {
   "cell_type": "code",
   "execution_count": 29,
   "metadata": {},
   "outputs": [
    {
     "data": {
      "text/html": [
       "<div>\n",
       "<style scoped>\n",
       "    .dataframe tbody tr th:only-of-type {\n",
       "        vertical-align: middle;\n",
       "    }\n",
       "\n",
       "    .dataframe tbody tr th {\n",
       "        vertical-align: top;\n",
       "    }\n",
       "\n",
       "    .dataframe thead th {\n",
       "        text-align: right;\n",
       "    }\n",
       "</style>\n",
       "<table border=\"1\" class=\"dataframe\">\n",
       "  <thead>\n",
       "    <tr style=\"text-align: right;\">\n",
       "      <th></th>\n",
       "      <th>Date</th>\n",
       "      <th>Open</th>\n",
       "      <th>High</th>\n",
       "      <th>Low</th>\n",
       "      <th>Close</th>\n",
       "      <th>Volume</th>\n",
       "      <th>Ex-Dividend</th>\n",
       "      <th>Split Ratio</th>\n",
       "      <th>Adj. Open</th>\n",
       "      <th>Adj. High</th>\n",
       "      <th>Adj. Low</th>\n",
       "      <th>Adj. Close</th>\n",
       "      <th>Adj. Volume</th>\n",
       "    </tr>\n",
       "  </thead>\n",
       "  <tbody>\n",
       "    <tr>\n",
       "      <th>0</th>\n",
       "      <td>2015-12-31</td>\n",
       "      <td>787.82</td>\n",
       "      <td>788.33</td>\n",
       "      <td>777.32</td>\n",
       "      <td>778.01</td>\n",
       "      <td>1637561.0</td>\n",
       "      <td>0.0</td>\n",
       "      <td>1.0</td>\n",
       "      <td>787.82</td>\n",
       "      <td>788.33</td>\n",
       "      <td>777.32</td>\n",
       "      <td>778.01</td>\n",
       "      <td>1637561.0</td>\n",
       "    </tr>\n",
       "    <tr>\n",
       "      <th>1</th>\n",
       "      <td>2016-01-04</td>\n",
       "      <td>762.20</td>\n",
       "      <td>762.20</td>\n",
       "      <td>747.54</td>\n",
       "      <td>759.44</td>\n",
       "      <td>3369068.0</td>\n",
       "      <td>0.0</td>\n",
       "      <td>1.0</td>\n",
       "      <td>762.20</td>\n",
       "      <td>762.20</td>\n",
       "      <td>747.54</td>\n",
       "      <td>759.44</td>\n",
       "      <td>3369068.0</td>\n",
       "    </tr>\n",
       "    <tr>\n",
       "      <th>2</th>\n",
       "      <td>2016-01-05</td>\n",
       "      <td>764.10</td>\n",
       "      <td>769.20</td>\n",
       "      <td>755.65</td>\n",
       "      <td>761.53</td>\n",
       "      <td>2260795.0</td>\n",
       "      <td>0.0</td>\n",
       "      <td>1.0</td>\n",
       "      <td>764.10</td>\n",
       "      <td>769.20</td>\n",
       "      <td>755.65</td>\n",
       "      <td>761.53</td>\n",
       "      <td>2260795.0</td>\n",
       "    </tr>\n",
       "    <tr>\n",
       "      <th>3</th>\n",
       "      <td>2016-01-06</td>\n",
       "      <td>750.37</td>\n",
       "      <td>765.73</td>\n",
       "      <td>748.00</td>\n",
       "      <td>759.33</td>\n",
       "      <td>2410301.0</td>\n",
       "      <td>0.0</td>\n",
       "      <td>1.0</td>\n",
       "      <td>750.37</td>\n",
       "      <td>765.73</td>\n",
       "      <td>748.00</td>\n",
       "      <td>759.33</td>\n",
       "      <td>2410301.0</td>\n",
       "    </tr>\n",
       "    <tr>\n",
       "      <th>4</th>\n",
       "      <td>2016-01-07</td>\n",
       "      <td>746.49</td>\n",
       "      <td>755.31</td>\n",
       "      <td>735.28</td>\n",
       "      <td>741.00</td>\n",
       "      <td>3156563.0</td>\n",
       "      <td>0.0</td>\n",
       "      <td>1.0</td>\n",
       "      <td>746.49</td>\n",
       "      <td>755.31</td>\n",
       "      <td>735.28</td>\n",
       "      <td>741.00</td>\n",
       "      <td>3156563.0</td>\n",
       "    </tr>\n",
       "  </tbody>\n",
       "</table>\n",
       "</div>"
      ],
      "text/plain": [
       "         Date    Open    High     Low   Close     Volume  Ex-Dividend  \\\n",
       "0  2015-12-31  787.82  788.33  777.32  778.01  1637561.0          0.0   \n",
       "1  2016-01-04  762.20  762.20  747.54  759.44  3369068.0          0.0   \n",
       "2  2016-01-05  764.10  769.20  755.65  761.53  2260795.0          0.0   \n",
       "3  2016-01-06  750.37  765.73  748.00  759.33  2410301.0          0.0   \n",
       "4  2016-01-07  746.49  755.31  735.28  741.00  3156563.0          0.0   \n",
       "\n",
       "   Split Ratio  Adj. Open  Adj. High  Adj. Low  Adj. Close  Adj. Volume  \n",
       "0          1.0     787.82     788.33    777.32      778.01    1637561.0  \n",
       "1          1.0     762.20     762.20    747.54      759.44    3369068.0  \n",
       "2          1.0     764.10     769.20    755.65      761.53    2260795.0  \n",
       "3          1.0     750.37     765.73    748.00      759.33    2410301.0  \n",
       "4          1.0     746.49     755.31    735.28      741.00    3156563.0  "
      ]
     },
     "execution_count": 29,
     "metadata": {},
     "output_type": "execute_result"
    }
   ],
   "source": [
    "alphabet_data.head(5)"
   ]
  },
  {
   "cell_type": "markdown",
   "metadata": {},
   "source": [
    "Die Daten umfassen einen Datumsindex und die zugehörigen Marktinformationen der **Alphabet (Google) Inc.**."
   ]
  },
  {
   "cell_type": "markdown",
   "metadata": {},
   "source": [
    "Oftmals stehen Sie im Rahmen von Data-Science-Projekten vor der Herausforderung, Daten aus einer Vielzahl von Quellen, z.B. über das Internet zu importieren. Im Kontext von Finanzdaten findet sich eine hervorragende Quelle für den Bezug solcher Daten in der `Pandas-Datareader` Bibliothek. \n",
    "\n",
    "Obwohl sowohl die **Binder** als auch die **Colab** Umgebung bereits eine Vielzahl vorinstallierter Bibliotheken aufweisen, kann der Umstand eintreten, dass eine benötigte Bibliothek nicht verfügbar ist. Im Allgemeinen kann innerhalb eines Notebooks eine nicht vorhandene Bibliothek durch die Anweisung **pip** installiert werden. \n",
    "\n",
    "Jeder Befehl, der auch auf der Kommandozeile funktioniert, kann auch innerhalb eines Notebooks ausgeführt werden. Hierzu ist es lediglich notwendig der Anweisung das Zeichen `!` voranzustellen. Lassen Sie uns dies nun beispielhaft ausprobieren und `Pandas-Datareader` installieren:"
   ]
  },
  {
   "cell_type": "code",
   "execution_count": 30,
   "metadata": {},
   "outputs": [
    {
     "name": "stdout",
     "output_type": "stream",
     "text": [
      "/usr/local/lib/python3.8/site-packages/secretstorage/dhcrypto.py:16: CryptographyDeprecationWarning: int_from_bytes is deprecated, use int.from_bytes instead\n",
      "  from cryptography.utils import int_from_bytes\n",
      "/usr/local/lib/python3.8/site-packages/secretstorage/util.py:25: CryptographyDeprecationWarning: int_from_bytes is deprecated, use int.from_bytes instead\n",
      "  from cryptography.utils import int_from_bytes\n",
      "Collecting pandas_datareader\n",
      "  Using cached pandas_datareader-0.10.0-py3-none-any.whl (109 kB)\n",
      "Collecting requests>=2.19.0\n",
      "  Using cached requests-2.26.0-py2.py3-none-any.whl (62 kB)\n",
      "Collecting lxml\n",
      "  Using cached lxml-4.6.4-cp38-cp38-macosx_10_14_x86_64.whl (4.5 MB)\n",
      "Collecting pandas>=0.23\n",
      "  Using cached pandas-1.3.4-cp38-cp38-macosx_10_9_x86_64.whl (11.4 MB)\n",
      "Collecting idna<4,>=2.5; python_version >= \"3\"\n",
      "  Using cached idna-3.3-py3-none-any.whl (61 kB)\n",
      "Collecting certifi>=2017.4.17\n",
      "  Using cached certifi-2021.10.8-py2.py3-none-any.whl (149 kB)\n",
      "Collecting urllib3<1.27,>=1.21.1\n",
      "  Using cached urllib3-1.26.7-py2.py3-none-any.whl (138 kB)\n",
      "Collecting charset-normalizer~=2.0.0; python_version >= \"3\"\n",
      "  Using cached charset_normalizer-2.0.7-py3-none-any.whl (38 kB)\n",
      "Collecting pytz>=2017.3\n",
      "  Using cached pytz-2021.3-py2.py3-none-any.whl (503 kB)\n",
      "Collecting numpy>=1.17.3; platform_machine != \"aarch64\" and platform_machine != \"arm64\" and python_version < \"3.10\"\n",
      "  Using cached numpy-1.21.4-cp38-cp38-macosx_10_9_x86_64.whl (16.9 MB)\n",
      "Collecting python-dateutil>=2.7.3\n",
      "  Using cached python_dateutil-2.8.2-py2.py3-none-any.whl (247 kB)\n",
      "Collecting six>=1.5\n",
      "  Using cached six-1.16.0-py2.py3-none-any.whl (11 kB)\n",
      "\u001b[31mERROR: gdrive 0.0.4 has requirement six<1.13.0, but you'll have six 1.16.0 which is incompatible.\u001b[0m\n",
      "Installing collected packages: idna, certifi, urllib3, charset-normalizer, requests, lxml, pytz, numpy, six, python-dateutil, pandas, pandas-datareader\n",
      "Successfully installed certifi-2021.10.8 charset-normalizer-2.0.7 idna-3.3 lxml-4.6.4 numpy-1.21.4 pandas-1.3.4 pandas-datareader-0.10.0 python-dateutil-2.8.2 pytz-2021.3 requests-2.26.0 six-1.16.0 urllib3-1.26.7\n"
     ]
    }
   ],
   "source": [
    "!pip3 install pandas_datareader --ignore-installed"
   ]
  },
  {
   "cell_type": "markdown",
   "metadata": {},
   "source": [
    "Bitte beachten Sie, dass Bibliotheken, die über eine Notebook in **Binder** oder **Colab** installiert werden, nur im Rahmen der aktuellen Session zur Verfügung stehen. D.h. sobald Sie die Umgebung erneut starten ist es notwendig die Bibliotheken erneut zu installieren."
   ]
  },
  {
   "cell_type": "markdown",
   "metadata": {},
   "source": [
    "Lassen Sie uns nun die `DataReader` und die `DateTime` Bibliothek importieren, um tatsächliche Finanzdaten zu beziehen:"
   ]
  },
  {
   "cell_type": "code",
   "execution_count": 31,
   "metadata": {},
   "outputs": [],
   "source": [
    "import datetime as dt\n",
    "import pandas_datareader as dr"
   ]
  },
  {
   "cell_type": "markdown",
   "metadata": {},
   "source": [
    "Hierzu spezifizieren Sie zunächst sowohl das **Start-** als auch das **Enddatum** des Datendownloads:"
   ]
  },
  {
   "cell_type": "code",
   "execution_count": 32,
   "metadata": {},
   "outputs": [],
   "source": [
    "start_date = dt.datetime(2015, 12, 31)\n",
    "end_date = dt.datetime(2017, 12, 31)"
   ]
  },
  {
   "cell_type": "markdown",
   "metadata": {},
   "source": [
    "In einem nächsten Schritt können nun beispielhaft die **Tesla Inc.** (Tickersymbol: TSLA) Marktpreisdaten über die `Pandas-DataReader` Bibliothek für den zuvor spezifizierten Zeitraum durch **Yahoo Finance** bezogen werden:"
   ]
  },
  {
   "cell_type": "code",
   "execution_count": 33,
   "metadata": {},
   "outputs": [],
   "source": [
    "# download der Tesla Marktpreisdaten\n",
    "tesla_data = dr.data.DataReader('TSLA', data_source='yahoo', start=start_date, end=end_date)"
   ]
  },
  {
   "cell_type": "markdown",
   "metadata": {},
   "source": [
    "Wir haben die Daten wieder in der Form eines `Pandas` `DataFrames` geladen. In einem nächsten Schritt untersuchen Sie nun die ersten 5 Zeilen der importierten Daten anhand der `head` Anweisung:"
   ]
  },
  {
   "cell_type": "code",
   "execution_count": 34,
   "metadata": {},
   "outputs": [
    {
     "data": {
      "text/html": [
       "<div>\n",
       "<style scoped>\n",
       "    .dataframe tbody tr th:only-of-type {\n",
       "        vertical-align: middle;\n",
       "    }\n",
       "\n",
       "    .dataframe tbody tr th {\n",
       "        vertical-align: top;\n",
       "    }\n",
       "\n",
       "    .dataframe thead th {\n",
       "        text-align: right;\n",
       "    }\n",
       "</style>\n",
       "<table border=\"1\" class=\"dataframe\">\n",
       "  <thead>\n",
       "    <tr style=\"text-align: right;\">\n",
       "      <th></th>\n",
       "      <th>High</th>\n",
       "      <th>Low</th>\n",
       "      <th>Open</th>\n",
       "      <th>Close</th>\n",
       "      <th>Volume</th>\n",
       "      <th>Adj Close</th>\n",
       "    </tr>\n",
       "    <tr>\n",
       "      <th>Date</th>\n",
       "      <th></th>\n",
       "      <th></th>\n",
       "      <th></th>\n",
       "      <th></th>\n",
       "      <th></th>\n",
       "      <th></th>\n",
       "    </tr>\n",
       "  </thead>\n",
       "  <tbody>\n",
       "    <tr>\n",
       "      <th>2015-12-31</th>\n",
       "      <td>48.689999</td>\n",
       "      <td>47.674000</td>\n",
       "      <td>47.702000</td>\n",
       "      <td>48.001999</td>\n",
       "      <td>13575000</td>\n",
       "      <td>48.001999</td>\n",
       "    </tr>\n",
       "    <tr>\n",
       "      <th>2016-01-04</th>\n",
       "      <td>46.276001</td>\n",
       "      <td>43.799999</td>\n",
       "      <td>46.144001</td>\n",
       "      <td>44.681999</td>\n",
       "      <td>34135500</td>\n",
       "      <td>44.681999</td>\n",
       "    </tr>\n",
       "    <tr>\n",
       "      <th>2016-01-05</th>\n",
       "      <td>45.377998</td>\n",
       "      <td>44.000000</td>\n",
       "      <td>45.271999</td>\n",
       "      <td>44.686001</td>\n",
       "      <td>15934000</td>\n",
       "      <td>44.686001</td>\n",
       "    </tr>\n",
       "    <tr>\n",
       "      <th>2016-01-06</th>\n",
       "      <td>44.009998</td>\n",
       "      <td>43.195999</td>\n",
       "      <td>44.000000</td>\n",
       "      <td>43.807999</td>\n",
       "      <td>18895500</td>\n",
       "      <td>43.807999</td>\n",
       "    </tr>\n",
       "    <tr>\n",
       "      <th>2016-01-07</th>\n",
       "      <td>43.688000</td>\n",
       "      <td>42.734001</td>\n",
       "      <td>42.838001</td>\n",
       "      <td>43.130001</td>\n",
       "      <td>17771500</td>\n",
       "      <td>43.130001</td>\n",
       "    </tr>\n",
       "  </tbody>\n",
       "</table>\n",
       "</div>"
      ],
      "text/plain": [
       "                 High        Low       Open      Close    Volume  Adj Close\n",
       "Date                                                                       \n",
       "2015-12-31  48.689999  47.674000  47.702000  48.001999  13575000  48.001999\n",
       "2016-01-04  46.276001  43.799999  46.144001  44.681999  34135500  44.681999\n",
       "2016-01-05  45.377998  44.000000  45.271999  44.686001  15934000  44.686001\n",
       "2016-01-06  44.009998  43.195999  44.000000  43.807999  18895500  43.807999\n",
       "2016-01-07  43.688000  42.734001  42.838001  43.130001  17771500  43.130001"
      ]
     },
     "execution_count": 34,
     "metadata": {},
     "output_type": "execute_result"
    }
   ],
   "source": [
    "tesla_data.head(5)"
   ]
  },
  {
   "cell_type": "markdown",
   "metadata": {},
   "source": [
    "Um einen ersten Überblick über die Daten zu erhalten, ist es oftmals auch ratsam, ein paar einfache Statistiken über die Daten zu berechnen. Hierzu bietet die `describe` Anweisung der `Pandas` Bibliothek eine gute Möglichkeit:"
   ]
  },
  {
   "cell_type": "code",
   "execution_count": 35,
   "metadata": {},
   "outputs": [
    {
     "data": {
      "text/html": [
       "<div>\n",
       "<style scoped>\n",
       "    .dataframe tbody tr th:only-of-type {\n",
       "        vertical-align: middle;\n",
       "    }\n",
       "\n",
       "    .dataframe tbody tr th {\n",
       "        vertical-align: top;\n",
       "    }\n",
       "\n",
       "    .dataframe thead th {\n",
       "        text-align: right;\n",
       "    }\n",
       "</style>\n",
       "<table border=\"1\" class=\"dataframe\">\n",
       "  <thead>\n",
       "    <tr style=\"text-align: right;\">\n",
       "      <th></th>\n",
       "      <th>High</th>\n",
       "      <th>Low</th>\n",
       "      <th>Open</th>\n",
       "      <th>Close</th>\n",
       "      <th>Volume</th>\n",
       "      <th>Adj Close</th>\n",
       "    </tr>\n",
       "  </thead>\n",
       "  <tbody>\n",
       "    <tr>\n",
       "      <th>count</th>\n",
       "      <td>504.000000</td>\n",
       "      <td>504.000000</td>\n",
       "      <td>504.000000</td>\n",
       "      <td>504.000000</td>\n",
       "      <td>5.040000e+02</td>\n",
       "      <td>504.000000</td>\n",
       "    </tr>\n",
       "    <tr>\n",
       "      <th>mean</th>\n",
       "      <td>53.158647</td>\n",
       "      <td>51.569012</td>\n",
       "      <td>52.405393</td>\n",
       "      <td>52.378869</td>\n",
       "      <td>2.733242e+07</td>\n",
       "      <td>52.378869</td>\n",
       "    </tr>\n",
       "    <tr>\n",
       "      <th>std</th>\n",
       "      <td>12.417256</td>\n",
       "      <td>12.198174</td>\n",
       "      <td>12.346550</td>\n",
       "      <td>12.321617</td>\n",
       "      <td>1.421487e+07</td>\n",
       "      <td>12.321617</td>\n",
       "    </tr>\n",
       "    <tr>\n",
       "      <th>min</th>\n",
       "      <td>30.993999</td>\n",
       "      <td>28.209999</td>\n",
       "      <td>28.464001</td>\n",
       "      <td>28.733999</td>\n",
       "      <td>8.297500e+06</td>\n",
       "      <td>28.733999</td>\n",
       "    </tr>\n",
       "    <tr>\n",
       "      <th>25%</th>\n",
       "      <td>42.605000</td>\n",
       "      <td>41.207500</td>\n",
       "      <td>41.825002</td>\n",
       "      <td>41.742499</td>\n",
       "      <td>1.809538e+07</td>\n",
       "      <td>41.742499</td>\n",
       "    </tr>\n",
       "    <tr>\n",
       "      <th>50%</th>\n",
       "      <td>50.096001</td>\n",
       "      <td>48.599998</td>\n",
       "      <td>49.326000</td>\n",
       "      <td>49.386000</td>\n",
       "      <td>2.391250e+07</td>\n",
       "      <td>49.386000</td>\n",
       "    </tr>\n",
       "    <tr>\n",
       "      <th>75%</th>\n",
       "      <td>64.329000</td>\n",
       "      <td>62.537001</td>\n",
       "      <td>63.453000</td>\n",
       "      <td>63.471000</td>\n",
       "      <td>3.247962e+07</td>\n",
       "      <td>63.471000</td>\n",
       "    </tr>\n",
       "    <tr>\n",
       "      <th>max</th>\n",
       "      <td>77.921997</td>\n",
       "      <td>75.870003</td>\n",
       "      <td>77.337997</td>\n",
       "      <td>77.000000</td>\n",
       "      <td>1.187120e+08</td>\n",
       "      <td>77.000000</td>\n",
       "    </tr>\n",
       "  </tbody>\n",
       "</table>\n",
       "</div>"
      ],
      "text/plain": [
       "             High         Low        Open       Close        Volume  \\\n",
       "count  504.000000  504.000000  504.000000  504.000000  5.040000e+02   \n",
       "mean    53.158647   51.569012   52.405393   52.378869  2.733242e+07   \n",
       "std     12.417256   12.198174   12.346550   12.321617  1.421487e+07   \n",
       "min     30.993999   28.209999   28.464001   28.733999  8.297500e+06   \n",
       "25%     42.605000   41.207500   41.825002   41.742499  1.809538e+07   \n",
       "50%     50.096001   48.599998   49.326000   49.386000  2.391250e+07   \n",
       "75%     64.329000   62.537001   63.453000   63.471000  3.247962e+07   \n",
       "max     77.921997   75.870003   77.337997   77.000000  1.187120e+08   \n",
       "\n",
       "        Adj Close  \n",
       "count  504.000000  \n",
       "mean    52.378869  \n",
       "std     12.321617  \n",
       "min     28.733999  \n",
       "25%     41.742499  \n",
       "50%     49.386000  \n",
       "75%     63.471000  \n",
       "max     77.000000  "
      ]
     },
     "execution_count": 35,
     "metadata": {},
     "output_type": "execute_result"
    }
   ],
   "source": [
    "tesla_data.describe()"
   ]
  },
  {
   "cell_type": "markdown",
   "metadata": {},
   "source": [
    "Auf den ersten Blick sehen die Daten vollständig aus. Um die Daten in einem nächsten Schritt in Form einer **Excel-Datei** zu speichern, können Sie die Anweisung `to_excel` der `Pandas` Bibliothek verwenden (bitte, beachten Sie die entsprechende Anpassung des Dateinamens \".xlsx\"):"
   ]
  },
  {
   "cell_type": "code",
   "execution_count": 36,
   "metadata": {},
   "outputs": [],
   "source": [
    "tesla_data.to_excel('sample_tesla_data_daily.xlsx', header=True, index=False, sheet_name=\"TSLA_DATA\", encoding=\"utf-8\")"
   ]
  },
  {
   "cell_type": "markdown",
   "metadata": {},
   "source": [
    "Die Auswahl einer bestimmten Spalte eines `DataFrames` kann beispielhaft anhand der nachfolgenden Anweisung erfolgen:"
   ]
  },
  {
   "cell_type": "code",
   "execution_count": 37,
   "metadata": {},
   "outputs": [],
   "source": [
    "tesla_closing = tesla_data['Adj Close']"
   ]
  },
  {
   "cell_type": "markdown",
   "metadata": {},
   "source": [
    "Lassen Sie uns auch diesmal wieder die **ersten 5 Preisdaten** der extrahierten Spalte anschauen:"
   ]
  },
  {
   "cell_type": "code",
   "execution_count": 38,
   "metadata": {},
   "outputs": [
    {
     "data": {
      "text/plain": [
       "Date\n",
       "2015-12-31    48.001999\n",
       "2016-01-04    44.681999\n",
       "2016-01-05    44.686001\n",
       "2016-01-06    43.807999\n",
       "2016-01-07    43.130001\n",
       "Name: Adj Close, dtype: float64"
      ]
     },
     "execution_count": 38,
     "metadata": {},
     "output_type": "execute_result"
    }
   ],
   "source": [
    "tesla_closing.head(5)"
   ]
  },
  {
   "cell_type": "markdown",
   "metadata": {},
   "source": [
    "Im Ergebnis erhalten wir nun tatsächlich zwei Spalten (1) den Index **Date** des `DataFrames` sowie (2) die Datenspalte **Adj. Close** Preis, welche ausgewählt wurden."
   ]
  },
  {
   "cell_type": "markdown",
   "metadata": {},
   "source": [
    "Abschliessend soll ein Diagramm erstellt werden, welches den Kursverlauf des **Adj.Close** Preis im Zeitverlauf visualisiert. Hierzu ist es zunächst notwendig, den **Index** der extrahierten Spalte von den eigentlichen Daten zu unterscheiden. Dies kann durch die Funktion `.index` erreicht werden, die den Index eines gegebenen DataFrame referenziert. Darüber hinaus referenziert die Funktion `.values`, die **tatsächlichen Daten** (d.h. ohne die Indexinformation).\n",
    "\n",
    "Anhand der beiden Referenzen ist nun möglich, wie zuvor, durch Verwendung der `Matplotlib` Bibliothek das gewünschte Diagramm zu zeichnen:"
   ]
  },
  {
   "cell_type": "code",
   "execution_count": 39,
   "metadata": {},
   "outputs": [
    {
     "data": {
      "image/png": "[encoded data removed]",
      "text/plain": [
       "<Figure size 432x288 with 1 Axes>"
      ]
     },
     "metadata": {
      "needs_background": "light"
     },
     "output_type": "display_data"
    }
   ],
   "source": [
    "# visualisieren des Adj. Close Preis im Zeitverlauf\n",
    "plt.plot(tesla_closing.index, tesla_closing.values, color=\"green\")\n",
    "\n",
    "# hinzfügen der A‚chsenbeschriftungen\n",
    "plt.xlabel('Time')\n",
    "plt.ylabel('Closing Price')\n",
    "\n",
    "# hinzufügen des Titels\n",
    "plt.title('Tesla Inc. Daily Adjusted Closing Price');"
   ]
  },
  {
   "cell_type": "markdown",
   "metadata": {},
   "source": [
    "### 7. Berechnung von Erträgen aus Marktpreisdaten"
   ]
  },
  {
   "cell_type": "markdown",
   "metadata": {},
   "source": [
    "Bei der Analyse von Marktpreisdaten sind wir oftmals auch an der **Rendite eines Finanzinstruments** über einen bestimmten Zeitraum interessiert. Die `Pandas` Bibliothek stellt eine Reihe von Anweisungen für die Analyse solcher Daten zur Verfügung. Die Rendite $R_t$ kann formal beispielsweise anhand der nachfolgenden Formel berechnet werden:"
   ]
  },
  {
   "cell_type": "markdown",
   "metadata": {},
   "source": [
    "$$R_t=\\frac{V_{f}-V_{i}}{V_{i}}$$"
   ]
  },
  {
   "cell_type": "markdown",
   "metadata": {},
   "source": [
    "wobei:\n",
    "\n",
    "- $V_{f}$ den Endwert des Finanzinstruments, einschließlich Dividenden und Zinsen bezeichnet.\n",
    "- $V_{i}$ den Anfangswert des Finanzinstruments bezeichnet.\n",
    "\n",
    "Um die tägliche Rendite $R_t$ eines Finanzinstruments zu bestimmen, kann beispielsweise die `Pandas` Anweisung `pct_change` verwendet werden. Lassen Sie uns nachfolgend die Anweisung zur Berechnung der **täglichen Rendite** der Tesla Marktpreise verwenden:"
   ]
  },
  {
   "cell_type": "code",
   "execution_count": 40,
   "metadata": {},
   "outputs": [],
   "source": [
    "tesla_returns = tesla_closing.pct_change()"
   ]
  },
  {
   "cell_type": "markdown",
   "metadata": {},
   "source": [
    "Lassen Sie uns nun die **5 ersten Renditen** anschauen:"
   ]
  },
  {
   "cell_type": "code",
   "execution_count": 41,
   "metadata": {},
   "outputs": [
    {
     "data": {
      "text/plain": [
       "Date\n",
       "2015-12-31         NaN\n",
       "2016-01-04   -0.069164\n",
       "2016-01-05    0.000090\n",
       "2016-01-06   -0.019648\n",
       "2016-01-07   -0.015477\n",
       "Name: Adj Close, dtype: float64"
      ]
     },
     "execution_count": 41,
     "metadata": {},
     "output_type": "execute_result"
    }
   ],
   "source": [
    "tesla_returns.head(5)"
   ]
  },
  {
   "cell_type": "markdown",
   "metadata": {},
   "source": [
    "Beachten Sie, dass wir nun die **erste Rendite entfernen**, da sie einen fehlenden Wert durch `NaN` gekennzeichnet enthält:"
   ]
  },
  {
   "cell_type": "code",
   "execution_count": 42,
   "metadata": {},
   "outputs": [],
   "source": [
    "tesla_returns = tesla_returns[1:]"
   ]
  },
  {
   "cell_type": "markdown",
   "metadata": {},
   "source": [
    "Lassen Sie uns nun erneut die **5 ersten Renditen** anschauen:"
   ]
  },
  {
   "cell_type": "code",
   "execution_count": 43,
   "metadata": {},
   "outputs": [
    {
     "data": {
      "text/plain": [
       "Date\n",
       "2016-01-04   -0.069164\n",
       "2016-01-05    0.000090\n",
       "2016-01-06   -0.019648\n",
       "2016-01-07   -0.015477\n",
       "2016-01-08   -0.021563\n",
       "Name: Adj Close, dtype: float64"
      ]
     },
     "execution_count": 43,
     "metadata": {},
     "output_type": "execute_result"
    }
   ],
   "source": [
    "tesla_returns.head(5)"
   ]
  },
  {
   "cell_type": "markdown",
   "metadata": {},
   "source": [
    "Im Anschluss an die Berechnung der täglichen Renditen möchten wir die **Verteilung der täglichen Renditen** der Tesla Aktie in einem **Histogram-Diagramm** visualisieren:"
   ]
  },
  {
   "cell_type": "code",
   "execution_count": 44,
   "metadata": {},
   "outputs": [
    {
     "data": {
      "image/png": "[encoded data removed]",
      "text/plain": [
       "<Figure size 432x288 with 1 Axes>"
      ]
     },
     "metadata": {
      "needs_background": "light"
     },
     "output_type": "display_data"
    }
   ],
   "source": [
    "# visualisierung eines histograms der Renditen\n",
    "plt.hist(tesla_returns, bins=20, color=\"cornflowerblue\")\n",
    "\n",
    "# hinzufügen der Achsenbeschriftungen\n",
    "plt.xlabel('Return')\n",
    "plt.ylabel('Frequency')\n",
    "\n",
    "# hinzufügen des Titels\n",
    "plt.title('Alphabet Inc. Adjusted Daily Returns');"
   ]
  },
  {
   "cell_type": "markdown",
   "metadata": {},
   "source": [
    "Lassen Sie uns nun die Renditen der Tesla Marktpreise basierend auf einer geschätzten Normalverteilung visualisieren. In einem ersten Schritt werden wir den **Mittelwert** und die **Standardabweichung** der Renditen anhand der Python Anweisungen `mean` und `std` ermitteln. In einem zweiten Schritt werden wir diese Statistiken zur Parametrisierung einer **entsprechenden Normalverteilung** verwenden. In einem dritten Schritt werden wir 10.000 Zufallsstichproben von dieser Normalverteilung, wie zuvor, durch ein **Histogram-Diagramm** visualisieren:"
   ]
  },
  {
   "cell_type": "code",
   "execution_count": 45,
   "metadata": {},
   "outputs": [
    {
     "data": {
      "image/png": "[encoded data removed]",
      "text/plain": [
       "<Figure size 432x288 with 1 Axes>"
      ]
     },
     "metadata": {
      "needs_background": "light"
     },
     "output_type": "display_data"
    }
   ],
   "source": [
    "# visualisierung eines histograms der normalverteilten Renditen\n",
    "plt.hist(np.random.normal(np.mean(tesla_returns), np.std(tesla_returns), 10000), bins=20, color=\"green\")\n",
    "\n",
    "# hinzufügen der Achsenbeschriftungen\n",
    "plt.xlabel('Return')\n",
    "plt.ylabel('Frequency')\n",
    "\n",
    "# hinzufügen des Titels\n",
    "plt.title('Tesla Inc. Adjusted Daily Returns (Normal)');"
   ]
  },
  {
   "cell_type": "markdown",
   "metadata": {},
   "source": [
    "### 8. Generating a Moving Average "
   ]
  },
  {
   "cell_type": "markdown",
   "metadata": {},
   "source": [
    "Bei der Analyse von Markpreisdaten sind Analysten oftmals auch an der Berechnung sogenannter **gleitender Statistiken** interessiert, z.B. eines gleitenden 90- oder 200-Tage-Durchschnitts. Auch hierzu bietet die `Pandas` Bibliothek einige hilfreiche Anweisungen. \n",
    "\n",
    "Im nachfolgenden Beispiel wird der **gleitende Durchschnitt über 90 Tage** des **Adj.Closing** Preises der Tesla Aktie berechnet. Beachten Sie, dass es für die ersten 90 Tage keinen gleitenden Durchschnitt gibt, da es 90 benötigt, bevor der erste Wert bestimmt werden kann:"
   ]
  },
  {
   "cell_type": "code",
   "execution_count": 46,
   "metadata": {},
   "outputs": [],
   "source": [
    "# berechnung des gleitenden Durchschnitts über 90 Tage\n",
    "tesla_moving_average = tesla_closing.rolling(window=30, center=False).mean()"
   ]
  },
  {
   "cell_type": "markdown",
   "metadata": {},
   "source": [
    "Lassen Sie uns nun den 90 Tage gleitenden Durchschnitt im Vergleich zum aktuellen Adj.Closing in einem Diagramm visualisieren:"
   ]
  },
  {
   "cell_type": "code",
   "execution_count": 47,
   "metadata": {},
   "outputs": [
    {
     "data": {
      "image/png": "[encoded data removed]",
      "text/plain": [
       "<Figure size 432x288 with 1 Axes>"
      ]
     },
     "metadata": {
      "needs_background": "light"
     },
     "output_type": "display_data"
    }
   ],
   "source": [
    "# visualisierung des Adj.Closing Preis\n",
    "plt.plot(tesla_closing.index, tesla_closing.values, color=\"cornflowerblue\")\n",
    "\n",
    "# visualisierung des gleitenden Durchschnitts über 90 Tage\n",
    "plt.plot(tesla_moving_average.index, tesla_moving_average.values, color=\"red\")\n",
    "\n",
    "# hinzufügen der Achsenbeschriftungen\n",
    "plt.xlabel('Time')\n",
    "plt.ylabel('Price')\n",
    "\n",
    "# hinzfügen der Legende\n",
    "plt.legend(['Price', '90-day MAVG']);\n",
    "\n",
    "# hinzufügen des Titels\n",
    "plt.title('Tesla Inc. Price vs. Moving Average Price');"
   ]
  },
  {
   "cell_type": "markdown",
   "metadata": {},
   "source": [
    "### Lab Aufgaben:"
   ]
  },
  {
   "cell_type": "markdown",
   "metadata": {},
   "source": [
    "Im Ihr wissen zu vertiefen empfehlen wir, die nachfolgenden Übungen zu bearbeiten:"
   ]
  },
  {
   "cell_type": "markdown",
   "metadata": {},
   "source": [
    "**1. Importieren von Daten unter Verwendung der `Pandas` `DataReader` API, \"dr.data.DataReader('TSLA', data_source='yahoo', ...)`.**\n",
    "\n",
    "> Verwenden Sie die `Pandas` `DataReader` API um die täglichen Schlusskurse der beiden folgenden Aktien jeweils als `Pandas` `DataFrame` zu beziehen: **Facebook** und **Microsoft**. Schränken Sie die Schlusskurse auf den Zeitraum vom **01.01.2017** bis **31.12.2020** ein."
   ]
  },
  {
   "cell_type": "code",
   "execution_count": 48,
   "metadata": {},
   "outputs": [],
   "source": [
    "# ***************************************************\n",
    "# Sie können Ihre Lösung an dieser Stelle einfügen\n",
    "# ***************************************************"
   ]
  },
  {
   "cell_type": "markdown",
   "metadata": {},
   "source": [
    "Im Laufe des Seminars werden wir eine Vielzahl von Daten visualisieren und analysieren. Die folgenden Übungen sollen Ihnen einen ersten Eindruck vermitteln, wie dies mit Hilfe der Python-Bibliotheken `Pandas` und `Matplotlib` erreicht werden kann: \n",
    "\n",
    "**2. Visualisierung der Daten mit Hilfe der Bibliothek `Matplotlib`, `plt.plot(...)` und `plt.hist(...)`.**\n",
    "\n",
    "> Visualisieren Sie die importierten Marktpreisdaten, indem Sie die täglichen Schlusskurse der beiden Aktien im Zeitverlauf (1) in einem Diagramm pro Aktie sowie (2) in einem gemeinsamen Diagramm beider Aktien."
   ]
  },
  {
   "cell_type": "code",
   "execution_count": 49,
   "metadata": {},
   "outputs": [],
   "source": [
    "# ***************************************************\n",
    "# Sie können Ihre Lösung an dieser Stelle einfügen\n",
    "# ***************************************************"
   ]
  },
  {
   "cell_type": "markdown",
   "metadata": {},
   "source": [
    "**3. Speichern der Daten mit Hilfe der Bibliothek `Pandas`, `data.to_csv()`.**\n",
    "\n",
    "> Speichern Sie die importierten Marktpreisdaten und das entsprechende Datum beider Aktien im CSV-Format (Comma-Separated Value) in Ihrem lokalen Verzeichnis. Verwenden Sie für das Speichern der CSV-Datei das Semikolon `';'` Trennzeichen und codieren Sie die Datei mit dem Character-Encoding `'utf-8'`."
   ]
  },
  {
   "cell_type": "code",
   "execution_count": 50,
   "metadata": {},
   "outputs": [],
   "source": [
    "# ***************************************************\n",
    "# Sie können Ihre Lösung an dieser Stelle einfügen\n",
    "# ***************************************************"
   ]
  },
  {
   "cell_type": "markdown",
   "metadata": {},
   "source": [
    "**4. Analyse der Daten mit Hilfe der Bibliothek `Pandas`, `data.rolling(..., window=...)`.**\n",
    "\n",
    "> Berechnen Sie für jede Aktie die gleitenden Durchschnitte der täglichen Schlusskurse unter Verwendung eines Zeitfensters von 30 und 90 Tagen. Stellen Sie für jede Aktie den täglichen Schlusskurs sowie den gleitenden 30- und 90-Tage-Durchschnitt in einem Diagramm dar."
   ]
  },
  {
   "cell_type": "code",
   "execution_count": 51,
   "metadata": {},
   "outputs": [],
   "source": [
    "# ***************************************************\n",
    "# INSERT YOUR CODE HERE\n",
    "# ***************************************************"
   ]
  },
  {
   "cell_type": "markdown",
   "metadata": {},
   "source": [
    "### Lab Zusammenfassung:"
   ]
  },
  {
   "cell_type": "markdown",
   "metadata": {},
   "source": [
    "Dieses initiale Notebook umfasste eine schrittweise Einführung in einige grundlegende Konzepte der Analyse von Finanzdaten bzw. Marktpreisdaten anhand von Jupyter Notebooks. Der vorgestellte Code und die Übungen können als Ausgangspunkt für Ihre komplexeren und massgeschneiderten Analysen dienen."
   ]
  }
 ],
 "metadata": {
  "kernelspec": {
   "display_name": "Python 3",
   "language": "python",
   "name": "python3"
  },
  "language_info": {
   "codemirror_mode": {
    "name": "ipython",
    "version": 3
   },
   "file_extension": ".py",
   "mimetype": "text/x-python",
   "name": "python",
   "nbconvert_exporter": "python",
   "pygments_lexer": "ipython3",
   "version": "3.8.5"
  },
  "toc": {
   "base_numbering": 1,
   "nav_menu": {},
   "number_sections": false,
   "sideBar": true,
   "skip_h1_title": false,
   "title_cell": "Table of Contents",
   "title_sidebar": "Contents",
   "toc_cell": false,
   "toc_position": {
    "height": "calc(100% - 180px)",
    "left": "10px",
    "top": "150px",
    "width": "190px"
   },
   "toc_section_display": true,
   "toc_window_display": false
  }
 },
 "nbformat": 4,
 "nbformat_minor": 2
}

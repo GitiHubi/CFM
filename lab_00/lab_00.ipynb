{
 "cells": [
  {
   "cell_type": "markdown",
   "metadata": {},
   "source": [
    "<img align=\"right\" style=\"max-width: 200px; height: auto\" src=\"fs_logo.jpg\">\n",
    "\n",
    "###  Lab 00 - Test der Jupyter Notebook Analyseumgebung\n",
    "\n",
    "Seminar Forensische Datenanalysen, Frankfurt School, 2021"
   ]
  },
  {
   "cell_type": "markdown",
   "metadata": {},
   "source": [
    "Die Analysen des Seminars **Forensische Datenanalysen** basieren auf Jupyter Notebook.\n",
    "\n",
    "Anhand solcher Notebooks ist es möglich eine Vielzahl von Datenanalysen und statistischen Validierungen durchzuführen. Mit diesem **Test-Notebook** möchten wir sicherstellen, dass **Jupyter Notebook** und **Python** richtig eingerichtet sind und Sie die ersten notwendigen Python-Bibliotheken importieren können bzw. installiert haben.\n",
    "\n",
    "Im Zweifelsfall oder bei Fragen machen wenden Sie sich gerne an uns via **marco.schreyer (at) unisg.ch**. \n",
    "\n",
    "Wir wünschen Ihnen Viel Spaß beim Programmieren bzw. Analysieren!"
   ]
  },
  {
   "cell_type": "markdown",
   "metadata": {},
   "source": [
    "### Test 1: Ausführung einer Jupyter Notebook Codezelle"
   ]
  },
  {
   "cell_type": "markdown",
   "metadata": {},
   "source": [
    "Lassen Sie uns eine einfache Addition (1+1) ausführen, um festzustellen, ob Sie Python in der Cloud (Binder bzw. Colab) oder lokal ohne Fehlermeldung ausführen können (indem Sie in die nachfolgende Codezelle klicken und anschliessend entweder auf die Schaltfläche **Zelle ausführen** innerhalb des obigen Menüs klicken oder indem Sie die Tasten **Shift + Return** drücken):"
   ]
  },
  {
   "cell_type": "code",
   "execution_count": null,
   "metadata": {},
   "outputs": [],
   "source": [
    "# ausführen eine einfachen addition\n",
    "1 + 1"
   ]
  },
  {
   "cell_type": "markdown",
   "metadata": {},
   "source": [
    "Nach erfolgreicher Ausführung der obigen Codezelle sollte das Ergebnis **2** unterhalb der Codezelle erscheinen. "
   ]
  },
  {
   "cell_type": "markdown",
   "metadata": {},
   "source": [
    "### Test 2: Importieren diverser Python Programmierbibliotheken"
   ]
  },
  {
   "cell_type": "markdown",
   "metadata": {},
   "source": [
    "Lassen Sie uns nun eine diverse notewendige Programmierbibliotheken importieren, um festzustellen, ob diese verfügbar bzw. korrekt installiert wurden:"
   ]
  },
  {
   "cell_type": "code",
   "execution_count": null,
   "metadata": {},
   "outputs": [],
   "source": [
    "# import diverser python bibliotheken\n",
    "import numpy\n",
    "import scipy\n",
    "import matplotlib\n",
    "import seaborn\n",
    "import sklearn\n",
    "import pandas\n",
    "import torch"
   ]
  },
  {
   "cell_type": "markdown",
   "metadata": {},
   "source": [
    "Die obige Code-Zelle sollte ohne Fehlermeldung ausgeführt werden. Sollte dies der Fall sein, ist Ihre Umgebung erfolgreich eingerichtet bzw. bereit für die Anwendung innerhalb der nachfolgenden Notebooks. \n",
    "\n",
    "Sollten Sie einen Fehler feststellen, zögern Sie bitte nicht, uns via **marco.schreyer (at) unisg.ch** zu kontaktieren."
   ]
  }
 ],
 "metadata": {
  "kernelspec": {
   "display_name": "Python 3",
   "language": "python",
   "name": "python3"
  },
  "language_info": {
   "codemirror_mode": {
    "name": "ipython",
    "version": 3
   },
   "file_extension": ".py",
   "mimetype": "text/x-python",
   "name": "python",
   "nbconvert_exporter": "python",
   "pygments_lexer": "ipython3",
   "version": "3.8.5"
  },
  "toc": {
   "base_numbering": 1,
   "nav_menu": {},
   "number_sections": false,
   "sideBar": true,
   "skip_h1_title": false,
   "title_cell": "Table of Contents",
   "title_sidebar": "Contents",
   "toc_cell": false,
   "toc_position": {},
   "toc_section_display": true,
   "toc_window_display": false
  }
 },
 "nbformat": 4,
 "nbformat_minor": 2
}
